{
 "cells": [
  {
   "cell_type": "code",
   "execution_count": 6,
   "metadata": {},
   "outputs": [
    {
     "name": "stdout",
     "output_type": "stream",
     "text": [
      "      Education  JoiningYear       City  PaymentTier  Age  Gender EverBenched  \\\n",
      "0     Bachelors         2017  Bangalore            3   34    Male          No   \n",
      "1     Bachelors         2013       Pune            1   28  Female          No   \n",
      "2     Bachelors         2014  New Delhi            3   38  Female          No   \n",
      "3       Masters         2016  Bangalore            3   27    Male          No   \n",
      "4       Masters         2017       Pune            3   24    Male         Yes   \n",
      "...         ...          ...        ...          ...  ...     ...         ...   \n",
      "4648  Bachelors         2013  Bangalore            3   26  Female          No   \n",
      "4649    Masters         2013       Pune            2   37    Male          No   \n",
      "4650    Masters         2018  New Delhi            3   27    Male          No   \n",
      "4651  Bachelors         2012  Bangalore            3   30    Male         Yes   \n",
      "4652  Bachelors         2015  Bangalore            3   33    Male         Yes   \n",
      "\n",
      "      ExperienceInCurrentDomain  LeaveOrNot  \n",
      "0                             0           0  \n",
      "1                             3           1  \n",
      "2                             2           0  \n",
      "3                             5           1  \n",
      "4                             2           1  \n",
      "...                         ...         ...  \n",
      "4648                          4           0  \n",
      "4649                          2           1  \n",
      "4650                          5           1  \n",
      "4651                          2           0  \n",
      "4652                          4           0  \n",
      "\n",
      "[4653 rows x 9 columns]\n"
     ]
    }
   ],
   "source": [
    "import pandas as pd\n",
    "\n",
    "# Read the CSV file\n",
    "df = pd.read_csv('Employee.csv')\n",
    "\n",
    "# Display the first few rows of the DataFrame\n",
    "print(df)\n"
   ]
  },
  {
   "cell_type": "code",
   "execution_count": 3,
   "metadata": {},
   "outputs": [
    {
     "name": "stdout",
     "output_type": "stream",
     "text": [
      "   Education  JoiningYear       City  PaymentTier  Age  Gender EverBenched  \\\n",
      "0  Bachelors         2017  Bangalore            3   34    Male          No   \n",
      "1  Bachelors         2013       Pune            1   28  Female          No   \n",
      "2  Bachelors         2014  New Delhi            3   38  Female          No   \n",
      "3    Masters         2016  Bangalore            3   27    Male          No   \n",
      "4    Masters         2017       Pune            3   24    Male         Yes   \n",
      "\n",
      "   ExperienceInCurrentDomain  LeaveOrNot  \n",
      "0                          0           0  \n",
      "1                          3           1  \n",
      "2                          2           0  \n",
      "3                          5           1  \n",
      "4                          2           1  \n"
     ]
    }
   ],
   "source": [
    "print(df.head())"
   ]
  },
  {
   "cell_type": "code",
   "execution_count": 4,
   "metadata": {},
   "outputs": [
    {
     "name": "stdout",
     "output_type": "stream",
     "text": [
      "      Education  JoiningYear       City  PaymentTier  Age  Gender EverBenched  \\\n",
      "4648  Bachelors         2013  Bangalore            3   26  Female          No   \n",
      "4649    Masters         2013       Pune            2   37    Male          No   \n",
      "4650    Masters         2018  New Delhi            3   27    Male          No   \n",
      "4651  Bachelors         2012  Bangalore            3   30    Male         Yes   \n",
      "4652  Bachelors         2015  Bangalore            3   33    Male         Yes   \n",
      "\n",
      "      ExperienceInCurrentDomain  LeaveOrNot  \n",
      "4648                          4           0  \n",
      "4649                          2           1  \n",
      "4650                          5           1  \n",
      "4651                          2           0  \n",
      "4652                          4           0  \n"
     ]
    }
   ],
   "source": [
    "print(df.tail())"
   ]
  },
  {
   "cell_type": "code",
   "execution_count": 6,
   "metadata": {},
   "outputs": [
    {
     "name": "stdout",
     "output_type": "stream",
     "text": [
      "(4653, 9)\n"
     ]
    }
   ],
   "source": [
    "print(df.shape)"
   ]
  },
  {
   "cell_type": "code",
   "execution_count": 9,
   "metadata": {},
   "outputs": [
    {
     "name": "stdout",
     "output_type": "stream",
     "text": [
      "<bound method DataFrame.info of       Education  JoiningYear       City  PaymentTier  Age  Gender EverBenched  \\\n",
      "0     Bachelors         2017  Bangalore            3   34    Male          No   \n",
      "1     Bachelors         2013       Pune            1   28  Female          No   \n",
      "2     Bachelors         2014  New Delhi            3   38  Female          No   \n",
      "3       Masters         2016  Bangalore            3   27    Male          No   \n",
      "4       Masters         2017       Pune            3   24    Male         Yes   \n",
      "...         ...          ...        ...          ...  ...     ...         ...   \n",
      "4648  Bachelors         2013  Bangalore            3   26  Female          No   \n",
      "4649    Masters         2013       Pune            2   37    Male          No   \n",
      "4650    Masters         2018  New Delhi            3   27    Male          No   \n",
      "4651  Bachelors         2012  Bangalore            3   30    Male         Yes   \n",
      "4652  Bachelors         2015  Bangalore            3   33    Male         Yes   \n",
      "\n",
      "      ExperienceInCurrentDomain  LeaveOrNot  \n",
      "0                             0           0  \n",
      "1                             3           1  \n",
      "2                             2           0  \n",
      "3                             5           1  \n",
      "4                             2           1  \n",
      "...                         ...         ...  \n",
      "4648                          4           0  \n",
      "4649                          2           1  \n",
      "4650                          5           1  \n",
      "4651                          2           0  \n",
      "4652                          4           0  \n",
      "\n",
      "[4653 rows x 9 columns]>\n"
     ]
    }
   ],
   "source": [
    "print(df.info)"
   ]
  },
  {
   "cell_type": "code",
   "execution_count": 10,
   "metadata": {},
   "outputs": [
    {
     "name": "stdout",
     "output_type": "stream",
     "text": [
      "       JoiningYear  PaymentTier          Age  ExperienceInCurrentDomain  \\\n",
      "count  4653.000000  4653.000000  4653.000000                4653.000000   \n",
      "mean   2015.062970     2.698259    29.393295                   2.905652   \n",
      "std       1.863377     0.561435     4.826087                   1.558240   \n",
      "min    2012.000000     1.000000    22.000000                   0.000000   \n",
      "25%    2013.000000     3.000000    26.000000                   2.000000   \n",
      "50%    2015.000000     3.000000    28.000000                   3.000000   \n",
      "75%    2017.000000     3.000000    32.000000                   4.000000   \n",
      "max    2018.000000     3.000000    41.000000                   7.000000   \n",
      "\n",
      "        LeaveOrNot  \n",
      "count  4653.000000  \n",
      "mean      0.343864  \n",
      "std       0.475047  \n",
      "min       0.000000  \n",
      "25%       0.000000  \n",
      "50%       0.000000  \n",
      "75%       1.000000  \n",
      "max       1.000000  \n"
     ]
    }
   ],
   "source": [
    "print(df.describe())"
   ]
  },
  {
   "cell_type": "code",
   "execution_count": 11,
   "metadata": {},
   "outputs": [
    {
     "data": {
      "image/png": "[encoded data removed]",
      "text/plain": [
       "<Figure size 800x600 with 1 Axes>"
      ]
     },
     "metadata": {},
     "output_type": "display_data"
    },
    {
     "name": "stderr",
     "output_type": "stream",
     "text": [
      "C:\\Users\\sufiy\\AppData\\Local\\Temp\\ipykernel_119244\\30718872.py:14: FutureWarning: \n",
      "\n",
      "Passing `palette` without assigning `hue` is deprecated and will be removed in v0.14.0. Assign the `x` variable to `hue` and set `legend=False` for the same effect.\n",
      "\n",
      "  sns.countplot(data=df, x='Gender', palette='pastel')\n"
     ]
    },
    {
     "data": {
      "image/png": "[encoded data removed]",
      "text/plain": [
       "<Figure size 800x600 with 1 Axes>"
      ]
     },
     "metadata": {},
     "output_type": "display_data"
    },
    {
     "name": "stderr",
     "output_type": "stream",
     "text": [
      "C:\\Users\\sufiy\\AppData\\Local\\Temp\\ipykernel_119244\\30718872.py:22: FutureWarning: \n",
      "\n",
      "Passing `palette` without assigning `hue` is deprecated and will be removed in v0.14.0. Assign the `x` variable to `hue` and set `legend=False` for the same effect.\n",
      "\n",
      "  sns.boxplot(data=df, x='Education', y='Age', palette='pastel')\n"
     ]
    },
    {
     "data": {
      "image/png": "[encoded data removed]",
      "text/plain": [
       "<Figure size 800x600 with 1 Axes>"
      ]
     },
     "metadata": {},
     "output_type": "display_data"
    }
   ],
   "source": [
    "import matplotlib.pyplot as plt\n",
    "import seaborn as sns\n",
    "\n",
    "# Visualization 1: Histogram of Age\n",
    "plt.figure(figsize=(8, 6))\n",
    "sns.histplot(data=df, x='Age', bins=10, kde=True, color='skyblue')\n",
    "plt.title('Histogram of Age')\n",
    "plt.xlabel('Age')\n",
    "plt.ylabel('Frequency')\n",
    "plt.show()\n",
    "\n",
    "# Visualization 2: Countplot of Gender\n",
    "plt.figure(figsize=(8, 6))\n",
    "sns.countplot(data=df, x='Gender', palette='pastel')\n",
    "plt.title('Count of Gender')\n",
    "plt.xlabel('Gender')\n",
    "plt.ylabel('Count')\n",
    "plt.show()\n",
    "\n",
    "# Visualization 3: Boxplot of Age by Education\n",
    "plt.figure(figsize=(8, 6))\n",
    "sns.boxplot(data=df, x='Education', y='Age', palette='pastel')\n",
    "plt.title('Boxplot of Age by Education')\n",
    "plt.xlabel('Education')\n",
    "plt.ylabel('Age')\n",
    "plt.show()\n"
   ]
  },
  {
   "cell_type": "code",
   "execution_count": 12,
   "metadata": {},
   "outputs": [
    {
     "name": "stdout",
     "output_type": "stream",
     "text": [
      "Columns with missing values:\n",
      "Series([], dtype: int64)\n"
     ]
    }
   ],
   "source": [
    "# Check for missing values\n",
    "missing_values = df.isnull().sum()\n",
    "\n",
    "# Display columns with missing values, if any\n",
    "print(\"Columns with missing values:\")\n",
    "print(missing_values[missing_values > 0])\n"
   ]
  },
  {
   "cell_type": "code",
   "execution_count": 13,
   "metadata": {},
   "outputs": [
    {
     "name": "stdout",
     "output_type": "stream",
     "text": [
      "Education                    object\n",
      "JoiningYear                   int64\n",
      "City                         object\n",
      "PaymentTier                   int64\n",
      "Age                           int64\n",
      "Gender                       object\n",
      "EverBenched                  object\n",
      "ExperienceInCurrentDomain     int64\n",
      "LeaveOrNot                    int64\n",
      "dtype: object\n"
     ]
    }
   ],
   "source": [
    "# Check data types of each column\n",
    "data_types = df.dtypes\n",
    "\n",
    "# Display data types\n",
    "print(data_types)\n"
   ]
  },
  {
   "cell_type": "code",
   "execution_count": 14,
   "metadata": {},
   "outputs": [
    {
     "name": "stdout",
     "output_type": "stream",
     "text": [
      "Duplicate rows:\n",
      "      Education  JoiningYear       City  PaymentTier  Age  Gender EverBenched  \\\n",
      "111   Bachelors         2017       Pune            2   27  Female          No   \n",
      "130   Bachelors         2017  Bangalore            3   26  Female          No   \n",
      "138   Bachelors         2017  New Delhi            3   28    Male          No   \n",
      "160   Bachelors         2014  Bangalore            3   28  Female          No   \n",
      "167   Bachelors         2014  Bangalore            3   25    Male          No   \n",
      "...         ...          ...        ...          ...  ...     ...         ...   \n",
      "4640  Bachelors         2015  Bangalore            3   35    Male          No   \n",
      "4642  Bachelors         2012  Bangalore            3   36  Female          No   \n",
      "4646  Bachelors         2013  Bangalore            3   25  Female          No   \n",
      "4648  Bachelors         2013  Bangalore            3   26  Female          No   \n",
      "4652  Bachelors         2015  Bangalore            3   33    Male         Yes   \n",
      "\n",
      "      ExperienceInCurrentDomain  LeaveOrNot  \n",
      "111                           5           1  \n",
      "130                           4           0  \n",
      "138                           2           0  \n",
      "160                           3           0  \n",
      "167                           3           0  \n",
      "...                         ...         ...  \n",
      "4640                          0           0  \n",
      "4642                          4           0  \n",
      "4646                          3           0  \n",
      "4648                          4           0  \n",
      "4652                          4           0  \n",
      "\n",
      "[1889 rows x 9 columns]\n"
     ]
    }
   ],
   "source": [
    "# Check for duplicate rows\n",
    "duplicate_rows = df[df.duplicated()]\n",
    "\n",
    "# Display duplicate rows, if any\n",
    "print(\"Duplicate rows:\")\n",
    "print(duplicate_rows)\n"
   ]
  },
  {
   "cell_type": "code",
   "execution_count": 15,
   "metadata": {},
   "outputs": [],
   "source": [
    "# Remove duplicate rows\n",
    "df_clean = df.drop_duplicates()\n"
   ]
  },
  {
   "cell_type": "code",
   "execution_count": 16,
   "metadata": {},
   "outputs": [],
   "source": [
    "# Add a flag column to indicate duplicate rows\n",
    "df['is_duplicate'] = df.duplicated()\n"
   ]
  },
  {
   "cell_type": "code",
   "execution_count": 21,
   "metadata": {},
   "outputs": [
    {
     "name": "stdout",
     "output_type": "stream",
     "text": [
      "Training set shape: (3722, 10) (3722,)\n",
      "Testing set shape: (931, 10) (931,)\n"
     ]
    }
   ],
   "source": [
    "from sklearn.model_selection import train_test_split\n",
    "\n",
    "# Split the preprocessed data into training and testing sets\n",
    "X_train, X_test, y_train, y_test = train_test_split(X_processed, y, test_size=0.2, random_state=42)\n",
    "\n",
    "# Check the shape of the training and testing sets\n",
    "print(\"Training set shape:\", X_train.shape, y_train.shape)\n",
    "print(\"Testing set shape:\", X_test.shape, y_test.shape)\n"
   ]
  },
  {
   "cell_type": "markdown",
   "metadata": {},
   "source": [
    "applying linear regression"
   ]
  },
  {
   "cell_type": "code",
   "execution_count": 19,
   "metadata": {},
   "outputs": [
    {
     "name": "stdout",
     "output_type": "stream",
     "text": [
      "Mean Squared Error: 0.18157239121939509\n",
      "R-squared Score: 0.19626235950301774\n"
     ]
    }
   ],
   "source": [
    "from sklearn.preprocessing import OneHotEncoder\n",
    "from sklearn.compose import ColumnTransformer\n",
    "\n",
    "# Define columns to be one-hot encoded\n",
    "categorical_cols = ['Education', 'City', 'Gender', 'EverBenched']\n",
    "\n",
    "# Define column transformer\n",
    "preprocessor = ColumnTransformer(\n",
    "    transformers=[\n",
    "        ('onehot', OneHotEncoder(drop='first'), categorical_cols),\n",
    "    ],\n",
    "    remainder='passthrough'\n",
    ")\n",
    "\n",
    "# Fit and transform data\n",
    "X_train_transformed = preprocessor.fit_transform(X_train)\n",
    "X_test_transformed = preprocessor.transform(X_test)\n",
    "\n",
    "# Initialize and train the linear regression model\n",
    "model = LinearRegression()\n",
    "model.fit(X_train_transformed, y_train)\n",
    "\n",
    "# Make predictions on the test set\n",
    "y_pred = model.predict(X_test_transformed)\n",
    "\n",
    "# Evaluate the model\n",
    "mse = mean_squared_error(y_test, y_pred)\n",
    "r2 = r2_score(y_test, y_pred)\n",
    "print(\"Mean Squared Error:\", mse)\n",
    "print(\"R-squared Score:\", r2)\n",
    "\n"
   ]
  },
  {
   "cell_type": "code",
   "execution_count": 22,
   "metadata": {},
   "outputs": [
    {
     "data": {
      "image/png": "[encoded data removed]",
      "text/plain": [
       "<Figure size 640x480 with 1 Axes>"
      ]
     },
     "metadata": {},
     "output_type": "display_data"
    }
   ],
   "source": [
    "import matplotlib.pyplot as plt\n",
    "\n",
    "# Plot the predicted values against the actual values\n",
    "plt.scatter(y_test, y_pred, color='blue')\n",
    "plt.plot([y_test.min(), y_test.max()], [y_test.min(), y_test.max()], linestyle='--', color='red')  # Plotting the diagonal line\n",
    "plt.xlabel('Actual')\n",
    "plt.ylabel('Predicted')\n",
    "plt.title('Actual vs. Predicted')\n",
    "plt.show()\n"
   ]
  },
  {
   "cell_type": "markdown",
   "metadata": {},
   "source": [
    "applying logistic regression"
   ]
  },
  {
   "cell_type": "code",
   "execution_count": 7,
   "metadata": {},
   "outputs": [
    {
     "name": "stdout",
     "output_type": "stream",
     "text": [
      "Accuracy: 0.7454350161117078\n",
      "Classification Report:\n",
      "              precision    recall  f1-score   support\n",
      "\n",
      "           0       0.76      0.89      0.82       610\n",
      "           1       0.69      0.47      0.56       321\n",
      "\n",
      "    accuracy                           0.75       931\n",
      "   macro avg       0.73      0.68      0.69       931\n",
      "weighted avg       0.74      0.75      0.73       931\n",
      "\n"
     ]
    },
    {
     "name": "stderr",
     "output_type": "stream",
     "text": [
      "C:\\Users\\sufiy\\AppData\\Local\\Packages\\PythonSoftwareFoundation.Python.3.11_qbz5n2kfra8p0\\LocalCache\\local-packages\\Python311\\site-packages\\sklearn\\linear_model\\_logistic.py:469: ConvergenceWarning: lbfgs failed to converge (status=1):\n",
      "STOP: TOTAL NO. of ITERATIONS REACHED LIMIT.\n",
      "\n",
      "Increase the number of iterations (max_iter) or scale the data as shown in:\n",
      "    https://scikit-learn.org/stable/modules/preprocessing.html\n",
      "Please also refer to the documentation for alternative solver options:\n",
      "    https://scikit-learn.org/stable/modules/linear_model.html#logistic-regression\n",
      "  n_iter_i = _check_optimize_result(\n"
     ]
    }
   ],
   "source": [
    "from sklearn.model_selection import train_test_split\n",
    "from sklearn.linear_model import LogisticRegression\n",
    "from sklearn.metrics import accuracy_score, classification_report\n",
    "\n",
    "# Step 1: Data Preprocessing (One-Hot Encoding for categorical variables)\n",
    "X_processed = pd.get_dummies(df.drop(columns=['LeaveOrNot']))  # Assuming 'LeaveOrNot' is your target variable\n",
    "y = df['LeaveOrNot']\n",
    "\n",
    "# Step 2: Split the Data\n",
    "X_train, X_test, y_train, y_test = train_test_split(X_processed, y, test_size=0.2, random_state=42)\n",
    "\n",
    "# Step 3: Initialize the Logistic Regression Model\n",
    "log_reg_model = LogisticRegression()\n",
    "\n",
    "# Step 4: Train the Model\n",
    "log_reg_model.fit(X_train, y_train)\n",
    "\n",
    "# Step 5: Make Predictions\n",
    "y_pred = log_reg_model.predict(X_test)\n",
    "\n",
    "# Step 6: Evaluate the Model\n",
    "accuracy = accuracy_score(y_test, y_pred)\n",
    "print(\"Accuracy:\", accuracy)\n",
    "print(\"Classification Report:\")\n",
    "print(classification_report(y_test, y_pred))\n"
   ]
  },
  {
   "cell_type": "markdown",
   "metadata": {},
   "source": [
    "applying decision tree classifier"
   ]
  },
  {
   "cell_type": "code",
   "execution_count": 8,
   "metadata": {},
   "outputs": [
    {
     "name": "stdout",
     "output_type": "stream",
     "text": [
      "Accuracy: 0.841031149301826\n",
      "Classification Report:\n",
      "              precision    recall  f1-score   support\n",
      "\n",
      "           0       0.86      0.90      0.88       610\n",
      "           1       0.80      0.73      0.76       321\n",
      "\n",
      "    accuracy                           0.84       931\n",
      "   macro avg       0.83      0.81      0.82       931\n",
      "weighted avg       0.84      0.84      0.84       931\n",
      "\n"
     ]
    }
   ],
   "source": [
    "from sklearn.model_selection import train_test_split\n",
    "from sklearn.tree import DecisionTreeClassifier\n",
    "from sklearn.metrics import accuracy_score, classification_report\n",
    "\n",
    "# Step 1: Data Preprocessing (One-Hot Encoding for categorical variables)\n",
    "X_processed = pd.get_dummies(df.drop(columns=['LeaveOrNot']))  # Assuming 'LeaveOrNot' is your target variable\n",
    "y = df['LeaveOrNot']\n",
    "\n",
    "# Step 2: Split the Data\n",
    "X_train, X_test, y_train, y_test = train_test_split(X_processed, y, test_size=0.2, random_state=42)\n",
    "\n",
    "# Step 3: Initialize the Decision Tree Model\n",
    "decision_tree_model = DecisionTreeClassifier()\n",
    "\n",
    "# Step 4: Train the Model\n",
    "decision_tree_model.fit(X_train, y_train)\n",
    "\n",
    "# Step 5: Make Predictions\n",
    "y_pred = decision_tree_model.predict(X_test)\n",
    "\n",
    "# Step 6: Evaluate the Model\n",
    "accuracy = accuracy_score(y_test, y_pred)\n",
    "print(\"Accuracy:\", accuracy)\n",
    "print(\"Classification Report:\")\n",
    "print(classification_report(y_test, y_pred))\n"
   ]
  },
  {
   "cell_type": "markdown",
   "metadata": {},
   "source": [
    "apply SVM"
   ]
  },
  {
   "cell_type": "code",
   "execution_count": 9,
   "metadata": {},
   "outputs": [
    {
     "name": "stdout",
     "output_type": "stream",
     "text": [
      "Accuracy: 0.6552094522019334\n",
      "Classification Report:\n",
      "              precision    recall  f1-score   support\n",
      "\n",
      "           0       0.66      1.00      0.79       610\n",
      "           1       0.00      0.00      0.00       321\n",
      "\n",
      "    accuracy                           0.66       931\n",
      "   macro avg       0.33      0.50      0.40       931\n",
      "weighted avg       0.43      0.66      0.52       931\n",
      "\n"
     ]
    },
    {
     "name": "stderr",
     "output_type": "stream",
     "text": [
      "C:\\Users\\sufiy\\AppData\\Local\\Packages\\PythonSoftwareFoundation.Python.3.11_qbz5n2kfra8p0\\LocalCache\\local-packages\\Python311\\site-packages\\sklearn\\metrics\\_classification.py:1509: UndefinedMetricWarning: Precision is ill-defined and being set to 0.0 in labels with no predicted samples. Use `zero_division` parameter to control this behavior.\n",
      "  _warn_prf(average, modifier, f\"{metric.capitalize()} is\", len(result))\n",
      "C:\\Users\\sufiy\\AppData\\Local\\Packages\\PythonSoftwareFoundation.Python.3.11_qbz5n2kfra8p0\\LocalCache\\local-packages\\Python311\\site-packages\\sklearn\\metrics\\_classification.py:1509: UndefinedMetricWarning: Precision is ill-defined and being set to 0.0 in labels with no predicted samples. Use `zero_division` parameter to control this behavior.\n",
      "  _warn_prf(average, modifier, f\"{metric.capitalize()} is\", len(result))\n",
      "C:\\Users\\sufiy\\AppData\\Local\\Packages\\PythonSoftwareFoundation.Python.3.11_qbz5n2kfra8p0\\LocalCache\\local-packages\\Python311\\site-packages\\sklearn\\metrics\\_classification.py:1509: UndefinedMetricWarning: Precision is ill-defined and being set to 0.0 in labels with no predicted samples. Use `zero_division` parameter to control this behavior.\n",
      "  _warn_prf(average, modifier, f\"{metric.capitalize()} is\", len(result))\n"
     ]
    }
   ],
   "source": [
    "from sklearn.model_selection import train_test_split\n",
    "from sklearn.svm import SVC\n",
    "from sklearn.metrics import accuracy_score, classification_report\n",
    "\n",
    "# Step 1: Data Preprocessing (One-Hot Encoding for categorical variables)\n",
    "X_processed = pd.get_dummies(df.drop(columns=['LeaveOrNot']))  # Assuming 'LeaveOrNot' is your target variable\n",
    "y = df['LeaveOrNot']\n",
    "\n",
    "# Step 2: Split the Data\n",
    "X_train, X_test, y_train, y_test = train_test_split(X_processed, y, test_size=0.2, random_state=42)\n",
    "\n",
    "# Step 3: Initialize the SVM Model\n",
    "svm_model = SVC()\n",
    "\n",
    "# Step 4: Train the Model\n",
    "svm_model.fit(X_train, y_train)\n",
    "\n",
    "# Step 5: Make Predictions\n",
    "y_pred = svm_model.predict(X_test)\n",
    "\n",
    "# Step 6: Evaluate the Model\n",
    "accuracy = accuracy_score(y_test, y_pred)\n",
    "print(\"Accuracy:\", accuracy)\n",
    "print(\"Classification Report:\")\n",
    "print(classification_report(y_test, y_pred))\n"
   ]
  }
 ],
 "metadata": {
  "kernelspec": {
   "display_name": "Python 3",
   "language": "python",
   "name": "python3"
  },
  "language_info": {
   "codemirror_mode": {
    "name": "ipython",
    "version": 3
   },
   "file_extension": ".py",
   "mimetype": "text/x-python",
   "name": "python",
   "nbconvert_exporter": "python",
   "pygments_lexer": "ipython3",
   "version": "3.11.8"
  }
 },
 "nbformat": 4,
 "nbformat_minor": 2
}
